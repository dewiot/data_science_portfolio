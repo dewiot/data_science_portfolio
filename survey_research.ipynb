{
  "nbformat": 4,
  "nbformat_minor": 0,
  "metadata": {
    "kernelspec": {
      "display_name": "Python 3",
      "language": "python",
      "name": "python3"
    },
    "language_info": {
      "codemirror_mode": {
        "name": "ipython",
        "version": 3
      },
      "file_extension": ".py",
      "mimetype": "text/x-python",
      "name": "python",
      "nbconvert_exporter": "python",
      "pygments_lexer": "ipython3",
      "version": "3.6.3"
    },
    "colab": {
      "name": "Диплом аналитика.ipynb",
      "provenance": [],
      "collapsed_sections": []
    }
  },
  "cells": [
    {
      "cell_type": "markdown",
      "metadata": {
        "id": "ykHmHmqduusW"
      },
      "source": [
        "# Задание"
      ]
    },
    {
      "cell_type": "markdown",
      "metadata": {
        "id": "2xfYZOVTuiX7"
      },
      "source": [
        "Подготовить исследование для компании и проанализируйте, как зависит (и зависит ли) оценка, которую ставит клиент в опросе, от технических показателей, которые были собраны. \n",
        "\n"
      ]
    },
    {
      "cell_type": "markdown",
      "metadata": {
        "id": "kN8DMlb0vA05"
      },
      "source": [
        "Датасет содержит следующие значения: \n",
        "\n",
        "&nbsp;&nbsp;&nbsp;&nbsp; `user_id` — идентификатор абонента;<br>\n",
        "&nbsp;&nbsp;&nbsp;&nbsp; `Q1` — ответ на первый вопрос;<br>\n",
        "&nbsp;&nbsp;&nbsp;&nbsp; `Q2` — ответ на второй вопрос;<br>\n",
        "&nbsp;&nbsp;&nbsp;&nbsp; `Total Traffic(MB)` — объем трафика передачи данных <sup>1 </sup>; <br>\n",
        "&nbsp;&nbsp;&nbsp;&nbsp; `Downlink Throughput(Kbps)` — средняя скорость «к абоненту» <sup>2 </sup>;<br>\n",
        "&nbsp;&nbsp;&nbsp;&nbsp; `Uplink Throughput(Kbps)`— средняя скорость «от абонента» <sup>3 </sup>;<br>\n",
        "&nbsp;&nbsp;&nbsp;&nbsp; `Downlink TCP Retransmission Rate(%)` — частота переотправок пакетов «к абоненту» <sup>4 </sup>;<br>\n",
        "&nbsp;&nbsp;&nbsp;&nbsp; `Video Streaming Download Throughput(Kbps)` — скорость загрузки потокового видео <sup>5 </sup>;<br>\n",
        "&nbsp;&nbsp;&nbsp;&nbsp; `Video Streaming xKB Start Delay(ms)` — задержка старта воспроизведения видео <sup>6 </sup>;<br>\n",
        "&nbsp;&nbsp;&nbsp;&nbsp; `Web Page Download Throughput(Kbps)` — скорость загрузки web-страниц через браузер <sup>7 </sup>;<br>\n",
        "&nbsp;&nbsp;&nbsp;&nbsp; `Web Average TCP RTT(ms)` — пинг при просмотре web-страниц<sup>8 </sup>.<br>\n",
        "\n",
        "\n",
        "<sup>1 </sup> — Насколько активно абонент использует мобильный интернет.<br>\n",
        "<sup>2 </sup> — Считается по всему трафику передачи данных.<br>\n",
        "<sup>3 </sup> — Считается по всему трафику передачи данных.<br>\n",
        "<sup>4 </sup> — Чем выше, тем хуже. Если в канале возникает ошибка, пакет переотправляется. Снижается полезная скорость.<br>\n",
        "<sup>5 </sup> — Чем выше, тем лучше — меньше прерываний и лучше качество картинки.<br>\n",
        "<sup>6 </sup> — Сколько времени пройдёт между нажатием на кнопку Play и началом воспроизведения видео. Чем меньше это время, тем быстрее начинается воспроизведение.<br>\n",
        "<sup>7 </sup> — Чем выше, тем лучше.<br>\n",
        "<sup>8 </sup> — Чем меньше, тем лучше — быстрее загружаются web-страницы.<br>\n",
        "\n",
        "Первый технический показатель представлен как сумма за период в одну неделю перед участием в опросе. Остальные технические показатели отображают среднее значение по данному признаку за период в одну неделю перед участием в опросе."
      ]
    },
    {
      "cell_type": "markdown",
      "metadata": {
        "id": "YdK1tM2mewkp"
      },
      "source": [
        "# Подготовка данных"
      ]
    },
    {
      "cell_type": "code",
      "metadata": {
        "id": "AAvHFaLj1Noy"
      },
      "source": [
        "#Импортируем необходимые библиотеки\n",
        "import numpy as np\n",
        "import pandas as pd\n",
        "import matplotlib.pyplot as plt\n",
        "%matplotlib inline\n",
        "import seaborn as sns\n",
        "import missingno as msno\n",
        "import plotly.graph_objects as go\n",
        "import scipy.stats as st"
      ],
      "execution_count": null,
      "outputs": []
    },
    {
      "cell_type": "code",
      "metadata": {
        "colab": {
          "base_uri": "https://localhost:8080/",
          "height": 269
        },
        "id": "zrIenYThNDBG",
        "outputId": "a6b9be20-3faa-4dce-aa85-409f46c5206a"
      },
      "source": [
        "#Загрузим данные мегафона\n",
        "df_megafon = pd.read_csv('megafon.csv', index_col=0)\n",
        "df_megafon.head()"
      ],
      "execution_count": null,
      "outputs": [
        {
          "output_type": "execute_result",
          "data": {
            "text/html": [
              "<div>\n",
              "<style scoped>\n",
              "    .dataframe tbody tr th:only-of-type {\n",
              "        vertical-align: middle;\n",
              "    }\n",
              "\n",
              "    .dataframe tbody tr th {\n",
              "        vertical-align: top;\n",
              "    }\n",
              "\n",
              "    .dataframe thead th {\n",
              "        text-align: right;\n",
              "    }\n",
              "</style>\n",
              "<table border=\"1\" class=\"dataframe\">\n",
              "  <thead>\n",
              "    <tr style=\"text-align: right;\">\n",
              "      <th></th>\n",
              "      <th>Q1</th>\n",
              "      <th>Q2</th>\n",
              "      <th>Total Traffic(MB)</th>\n",
              "      <th>Downlink Throughput(Kbps)</th>\n",
              "      <th>Uplink Throughput(Kbps)</th>\n",
              "      <th>Downlink TCP Retransmission Rate(%)</th>\n",
              "      <th>Video Streaming Download Throughput(Kbps)</th>\n",
              "      <th>Video Streaming xKB Start Delay(ms)</th>\n",
              "      <th>Web Page Download Throughput(Kbps)</th>\n",
              "      <th>Web Average TCP RTT(ms)</th>\n",
              "    </tr>\n",
              "    <tr>\n",
              "      <th>user_id</th>\n",
              "      <th></th>\n",
              "      <th></th>\n",
              "      <th></th>\n",
              "      <th></th>\n",
              "      <th></th>\n",
              "      <th></th>\n",
              "      <th></th>\n",
              "      <th></th>\n",
              "      <th></th>\n",
              "      <th></th>\n",
              "    </tr>\n",
              "  </thead>\n",
              "  <tbody>\n",
              "    <tr>\n",
              "      <th>1</th>\n",
              "      <td>5</td>\n",
              "      <td>NaN</td>\n",
              "      <td>775.48846</td>\n",
              "      <td>360.13</td>\n",
              "      <td>86.56</td>\n",
              "      <td>3.93</td>\n",
              "      <td>1859.15</td>\n",
              "      <td>2309</td>\n",
              "      <td>1007.82</td>\n",
              "      <td>83</td>\n",
              "    </tr>\n",
              "    <tr>\n",
              "      <th>2</th>\n",
              "      <td>5</td>\n",
              "      <td>4</td>\n",
              "      <td>861.96324</td>\n",
              "      <td>3023.54</td>\n",
              "      <td>411.18</td>\n",
              "      <td>1.27</td>\n",
              "      <td>667.47</td>\n",
              "      <td>2080</td>\n",
              "      <td>255.36</td>\n",
              "      <td>425</td>\n",
              "    </tr>\n",
              "    <tr>\n",
              "      <th>3</th>\n",
              "      <td>1</td>\n",
              "      <td>4</td>\n",
              "      <td>261.11860</td>\n",
              "      <td>790.96</td>\n",
              "      <td>34.20</td>\n",
              "      <td>1.79</td>\n",
              "      <td>1079.60</td>\n",
              "      <td>6367</td>\n",
              "      <td>535.85</td>\n",
              "      <td>485</td>\n",
              "    </tr>\n",
              "    <tr>\n",
              "      <th>4</th>\n",
              "      <td>8</td>\n",
              "      <td>3</td>\n",
              "      <td>179.18564</td>\n",
              "      <td>2590.97</td>\n",
              "      <td>325.88</td>\n",
              "      <td>0.80</td>\n",
              "      <td>7053.81</td>\n",
              "      <td>3218</td>\n",
              "      <td>1221.02</td>\n",
              "      <td>51</td>\n",
              "    </tr>\n",
              "    <tr>\n",
              "      <th>5</th>\n",
              "      <td>2</td>\n",
              "      <td>2, 3, 4</td>\n",
              "      <td>351.99208</td>\n",
              "      <td>731.61</td>\n",
              "      <td>223.54</td>\n",
              "      <td>1.15</td>\n",
              "      <td>4550.38</td>\n",
              "      <td>1767</td>\n",
              "      <td>2336.56</td>\n",
              "      <td>68</td>\n",
              "    </tr>\n",
              "  </tbody>\n",
              "</table>\n",
              "</div>"
            ],
            "text/plain": [
              "        Q1  ... Web Average TCP RTT(ms)\n",
              "user_id     ...                        \n",
              "1        5  ...                      83\n",
              "2        5  ...                     425\n",
              "3        1  ...                     485\n",
              "4        8  ...                      51\n",
              "5        2  ...                      68\n",
              "\n",
              "[5 rows x 10 columns]"
            ]
          },
          "metadata": {
            "tags": []
          },
          "execution_count": 7
        }
      ]
    },
    {
      "cell_type": "code",
      "metadata": {
        "colab": {
          "base_uri": "https://localhost:8080/",
          "height": 173
        },
        "id": "lENQ8d6UNJzo",
        "outputId": "056e02d5-1762-40d3-84ac-21f05d894dc4"
      },
      "source": [
        "#Переименнуем название столбцов для более удобной работы\n",
        "df_megafon.columns = ['q1', 'q2', 'traffic', 'downlink', 'uplink', 'downlink_tcp',\n",
        "                      'vs_download', 'vs_delay', 'wp_download', 'web_rtt']\n",
        "df_megafon.head(3)"
      ],
      "execution_count": null,
      "outputs": [
        {
          "output_type": "execute_result",
          "data": {
            "text/html": [
              "<div>\n",
              "<style scoped>\n",
              "    .dataframe tbody tr th:only-of-type {\n",
              "        vertical-align: middle;\n",
              "    }\n",
              "\n",
              "    .dataframe tbody tr th {\n",
              "        vertical-align: top;\n",
              "    }\n",
              "\n",
              "    .dataframe thead th {\n",
              "        text-align: right;\n",
              "    }\n",
              "</style>\n",
              "<table border=\"1\" class=\"dataframe\">\n",
              "  <thead>\n",
              "    <tr style=\"text-align: right;\">\n",
              "      <th></th>\n",
              "      <th>q1</th>\n",
              "      <th>q2</th>\n",
              "      <th>traffic</th>\n",
              "      <th>downlink</th>\n",
              "      <th>uplink</th>\n",
              "      <th>downlink_tcp</th>\n",
              "      <th>vs_download</th>\n",
              "      <th>vs_delay</th>\n",
              "      <th>wp_download</th>\n",
              "      <th>web_rtt</th>\n",
              "    </tr>\n",
              "    <tr>\n",
              "      <th>user_id</th>\n",
              "      <th></th>\n",
              "      <th></th>\n",
              "      <th></th>\n",
              "      <th></th>\n",
              "      <th></th>\n",
              "      <th></th>\n",
              "      <th></th>\n",
              "      <th></th>\n",
              "      <th></th>\n",
              "      <th></th>\n",
              "    </tr>\n",
              "  </thead>\n",
              "  <tbody>\n",
              "    <tr>\n",
              "      <th>1</th>\n",
              "      <td>5</td>\n",
              "      <td>NaN</td>\n",
              "      <td>775.48846</td>\n",
              "      <td>360.13</td>\n",
              "      <td>86.56</td>\n",
              "      <td>3.93</td>\n",
              "      <td>1859.15</td>\n",
              "      <td>2309</td>\n",
              "      <td>1007.82</td>\n",
              "      <td>83</td>\n",
              "    </tr>\n",
              "    <tr>\n",
              "      <th>2</th>\n",
              "      <td>5</td>\n",
              "      <td>4</td>\n",
              "      <td>861.96324</td>\n",
              "      <td>3023.54</td>\n",
              "      <td>411.18</td>\n",
              "      <td>1.27</td>\n",
              "      <td>667.47</td>\n",
              "      <td>2080</td>\n",
              "      <td>255.36</td>\n",
              "      <td>425</td>\n",
              "    </tr>\n",
              "    <tr>\n",
              "      <th>3</th>\n",
              "      <td>1</td>\n",
              "      <td>4</td>\n",
              "      <td>261.11860</td>\n",
              "      <td>790.96</td>\n",
              "      <td>34.20</td>\n",
              "      <td>1.79</td>\n",
              "      <td>1079.60</td>\n",
              "      <td>6367</td>\n",
              "      <td>535.85</td>\n",
              "      <td>485</td>\n",
              "    </tr>\n",
              "  </tbody>\n",
              "</table>\n",
              "</div>"
            ],
            "text/plain": [
              "        q1   q2    traffic  ...  vs_delay  wp_download  web_rtt\n",
              "user_id                     ...                                \n",
              "1        5  NaN  775.48846  ...      2309      1007.82       83\n",
              "2        5    4  861.96324  ...      2080       255.36      425\n",
              "3        1    4  261.11860  ...      6367       535.85      485\n",
              "\n",
              "[3 rows x 10 columns]"
            ]
          },
          "metadata": {
            "tags": []
          },
          "execution_count": 8
        }
      ]
    },
    {
      "cell_type": "code",
      "metadata": {
        "colab": {
          "base_uri": "https://localhost:8080/",
          "height": 734
        },
        "id": "bCS3Hc4RNLt7",
        "outputId": "1e146cf1-929a-4e5a-a5ca-5a3fcbf7d5d6"
      },
      "source": [
        "#Проверим наличие пропущенных значений\n",
        "msno.bar(df_megafon)"
      ],
      "execution_count": null,
      "outputs": [
        {
          "output_type": "execute_result",
          "data": {
            "text/plain": [
              "<matplotlib.axes._subplots.AxesSubplot at 0x7f7ebbd3f320>"
            ]
          },
          "metadata": {
            "tags": []
          },
          "execution_count": 9
        },
        {
          "output_type": "display_data",
          "data": {
            "image/png": "[encoded data removed]",
            "text/plain": [
              "<Figure size 1728x720 with 3 Axes>"
            ]
          },
          "metadata": {
            "tags": [],
            "needs_background": "light"
          }
        }
      ]
    },
    {
      "cell_type": "markdown",
      "metadata": {
        "id": "_9CB06q2NSQ7"
      },
      "source": [
        "Почти все пропущенные значения находятся в ответе на второй вопрос, это логично, т.к. не всем опрошенным задавали второй вопрос. Также есть 2 пропущенных значения в первом вопросе."
      ]
    },
    {
      "cell_type": "code",
      "metadata": {
        "colab": {
          "base_uri": "https://localhost:8080/"
        },
        "id": "IkhbankGNNt6",
        "outputId": "2ed3723b-2647-4340-f8ce-67eba76afee1"
      },
      "source": [
        "#Выведим типы данных в столбцах\n",
        "df_megafon.dtypes"
      ],
      "execution_count": null,
      "outputs": [
        {
          "output_type": "execute_result",
          "data": {
            "text/plain": [
              "q1               object\n",
              "q2               object\n",
              "traffic         float64\n",
              "downlink        float64\n",
              "uplink          float64\n",
              "downlink_tcp    float64\n",
              "vs_download     float64\n",
              "vs_delay          int64\n",
              "wp_download     float64\n",
              "web_rtt           int64\n",
              "dtype: object"
            ]
          },
          "metadata": {
            "tags": []
          },
          "execution_count": 10
        }
      ]
    },
    {
      "cell_type": "code",
      "metadata": {
        "colab": {
          "base_uri": "https://localhost:8080/",
          "height": 297
        },
        "id": "LGhDJIA-NWIz",
        "outputId": "1dc5de58-e2bc-4279-e2e4-e9730995441c"
      },
      "source": [
        "df_megafon.describe()"
      ],
      "execution_count": null,
      "outputs": [
        {
          "output_type": "execute_result",
          "data": {
            "text/html": [
              "<div>\n",
              "<style scoped>\n",
              "    .dataframe tbody tr th:only-of-type {\n",
              "        vertical-align: middle;\n",
              "    }\n",
              "\n",
              "    .dataframe tbody tr th {\n",
              "        vertical-align: top;\n",
              "    }\n",
              "\n",
              "    .dataframe thead th {\n",
              "        text-align: right;\n",
              "    }\n",
              "</style>\n",
              "<table border=\"1\" class=\"dataframe\">\n",
              "  <thead>\n",
              "    <tr style=\"text-align: right;\">\n",
              "      <th></th>\n",
              "      <th>traffic</th>\n",
              "      <th>downlink</th>\n",
              "      <th>uplink</th>\n",
              "      <th>downlink_tcp</th>\n",
              "      <th>vs_download</th>\n",
              "      <th>vs_delay</th>\n",
              "      <th>wp_download</th>\n",
              "      <th>web_rtt</th>\n",
              "    </tr>\n",
              "  </thead>\n",
              "  <tbody>\n",
              "    <tr>\n",
              "      <th>count</th>\n",
              "      <td>3112.000000</td>\n",
              "      <td>3112.000000</td>\n",
              "      <td>3112.000000</td>\n",
              "      <td>3112.000000</td>\n",
              "      <td>3112.000000</td>\n",
              "      <td>3112.000000</td>\n",
              "      <td>3112.000000</td>\n",
              "      <td>3112.000000</td>\n",
              "    </tr>\n",
              "    <tr>\n",
              "      <th>mean</th>\n",
              "      <td>406.282339</td>\n",
              "      <td>2220.774023</td>\n",
              "      <td>170.702381</td>\n",
              "      <td>1.834518</td>\n",
              "      <td>5728.806848</td>\n",
              "      <td>2107.596080</td>\n",
              "      <td>2100.258901</td>\n",
              "      <td>194.195051</td>\n",
              "    </tr>\n",
              "    <tr>\n",
              "      <th>std</th>\n",
              "      <td>220.593815</td>\n",
              "      <td>2629.824405</td>\n",
              "      <td>204.031286</td>\n",
              "      <td>2.074593</td>\n",
              "      <td>5161.475235</td>\n",
              "      <td>1582.423057</td>\n",
              "      <td>2062.509549</td>\n",
              "      <td>267.387914</td>\n",
              "    </tr>\n",
              "    <tr>\n",
              "      <th>min</th>\n",
              "      <td>100.026680</td>\n",
              "      <td>13.260000</td>\n",
              "      <td>6.110000</td>\n",
              "      <td>0.050000</td>\n",
              "      <td>0.000000</td>\n",
              "      <td>239.000000</td>\n",
              "      <td>0.000000</td>\n",
              "      <td>0.000000</td>\n",
              "    </tr>\n",
              "    <tr>\n",
              "      <th>25%</th>\n",
              "      <td>214.261193</td>\n",
              "      <td>652.297500</td>\n",
              "      <td>70.735000</td>\n",
              "      <td>0.720000</td>\n",
              "      <td>2324.550000</td>\n",
              "      <td>1280.000000</td>\n",
              "      <td>1018.002500</td>\n",
              "      <td>74.000000</td>\n",
              "    </tr>\n",
              "    <tr>\n",
              "      <th>50%</th>\n",
              "      <td>363.999720</td>\n",
              "      <td>1404.230000</td>\n",
              "      <td>119.435000</td>\n",
              "      <td>1.300000</td>\n",
              "      <td>4436.500000</td>\n",
              "      <td>1672.000000</td>\n",
              "      <td>1670.695000</td>\n",
              "      <td>118.000000</td>\n",
              "    </tr>\n",
              "    <tr>\n",
              "      <th>75%</th>\n",
              "      <td>572.524325</td>\n",
              "      <td>2823.645000</td>\n",
              "      <td>210.617500</td>\n",
              "      <td>2.240000</td>\n",
              "      <td>7611.440000</td>\n",
              "      <td>2312.000000</td>\n",
              "      <td>2519.987500</td>\n",
              "      <td>207.000000</td>\n",
              "    </tr>\n",
              "    <tr>\n",
              "      <th>max</th>\n",
              "      <td>887.078270</td>\n",
              "      <td>39817.640000</td>\n",
              "      <td>4141.850000</td>\n",
              "      <td>31.200000</td>\n",
              "      <td>58566.030000</td>\n",
              "      <td>21392.000000</td>\n",
              "      <td>35603.970000</td>\n",
              "      <td>3471.000000</td>\n",
              "    </tr>\n",
              "  </tbody>\n",
              "</table>\n",
              "</div>"
            ],
            "text/plain": [
              "           traffic      downlink  ...   wp_download      web_rtt\n",
              "count  3112.000000   3112.000000  ...   3112.000000  3112.000000\n",
              "mean    406.282339   2220.774023  ...   2100.258901   194.195051\n",
              "std     220.593815   2629.824405  ...   2062.509549   267.387914\n",
              "min     100.026680     13.260000  ...      0.000000     0.000000\n",
              "25%     214.261193    652.297500  ...   1018.002500    74.000000\n",
              "50%     363.999720   1404.230000  ...   1670.695000   118.000000\n",
              "75%     572.524325   2823.645000  ...   2519.987500   207.000000\n",
              "max     887.078270  39817.640000  ...  35603.970000  3471.000000\n",
              "\n",
              "[8 rows x 8 columns]"
            ]
          },
          "metadata": {
            "tags": []
          },
          "execution_count": 11
        }
      ]
    },
    {
      "cell_type": "code",
      "metadata": {
        "colab": {
          "base_uri": "https://localhost:8080/",
          "height": 173
        },
        "id": "jK3VdQz5NZYd",
        "outputId": "94b237aa-53fa-4cf4-8b67-d601d40e89a0"
      },
      "source": [
        "df_megafon.describe(include=[np.object])"
      ],
      "execution_count": null,
      "outputs": [
        {
          "output_type": "execute_result",
          "data": {
            "text/html": [
              "<div>\n",
              "<style scoped>\n",
              "    .dataframe tbody tr th:only-of-type {\n",
              "        vertical-align: middle;\n",
              "    }\n",
              "\n",
              "    .dataframe tbody tr th {\n",
              "        vertical-align: top;\n",
              "    }\n",
              "\n",
              "    .dataframe thead th {\n",
              "        text-align: right;\n",
              "    }\n",
              "</style>\n",
              "<table border=\"1\" class=\"dataframe\">\n",
              "  <thead>\n",
              "    <tr style=\"text-align: right;\">\n",
              "      <th></th>\n",
              "      <th>q1</th>\n",
              "      <th>q2</th>\n",
              "    </tr>\n",
              "  </thead>\n",
              "  <tbody>\n",
              "    <tr>\n",
              "      <th>count</th>\n",
              "      <td>3110</td>\n",
              "      <td>1315</td>\n",
              "    </tr>\n",
              "    <tr>\n",
              "      <th>unique</th>\n",
              "      <td>49</td>\n",
              "      <td>51</td>\n",
              "    </tr>\n",
              "    <tr>\n",
              "      <th>top</th>\n",
              "      <td>10</td>\n",
              "      <td>3</td>\n",
              "    </tr>\n",
              "    <tr>\n",
              "      <th>freq</th>\n",
              "      <td>846</td>\n",
              "      <td>190</td>\n",
              "    </tr>\n",
              "  </tbody>\n",
              "</table>\n",
              "</div>"
            ],
            "text/plain": [
              "          q1    q2\n",
              "count   3110  1315\n",
              "unique    49    51\n",
              "top       10     3\n",
              "freq     846   190"
            ]
          },
          "metadata": {
            "tags": []
          },
          "execution_count": 12
        }
      ]
    },
    {
      "cell_type": "markdown",
      "metadata": {
        "id": "FFd0CktgNclU"
      },
      "source": [
        "**Первые очевидные результаты и выводы, которые мы можем сделать:**\n",
        "* Большое количество опрошеных высоко оценили качество связи, более 25% поставили оценку 10.\n",
        "* На вопросы уникальных ответов больше, чем предпологает вопрос.\n",
        "* Наиболее популярным ответом на второй вопрос является плохое качество связи\n",
        "* Большая разница между средним веб пингом 194 и медианным 118, может означать, что существует небольшое количество пользователей с большим пингом. "
      ]
    },
    {
      "cell_type": "code",
      "metadata": {
        "colab": {
          "base_uri": "https://localhost:8080/"
        },
        "id": "ubrUnQjPNbGX",
        "outputId": "96cfba01-e3e2-42bc-e995-ec0d0dbfd355"
      },
      "source": [
        "#Посмотрим ответы на первый вопрос\n",
        "df_megafon['q1'].value_counts()"
      ],
      "execution_count": null,
      "outputs": [
        {
          "output_type": "execute_result",
          "data": {
            "text/plain": [
              "10                                                                      846\n",
              "1                                                                       532\n",
              "3                                                                       325\n",
              "8                                                                       291\n",
              "9                                                                       238\n",
              "5                                                                       234\n",
              "7                                                                       200\n",
              "2                                                                       168\n",
              "4                                                                       123\n",
              "6                                                                       101\n",
              "0                                                                        10\n",
              "Нет                                                                       2\n",
              "1, 3                                                                      2\n",
              "5, 6                                                                      2\n",
              "Да                                                                        2\n",
              "Когда в Москве-10 а когда в калужской области в деревне Бели-1            1\n",
              "5, 7                                                                      1\n",
              "3 - дер.Ширяево Волоколамского района, 9 - в Москве                       1\n",
              "19                                                                        1\n",
              "15                                                                        1\n",
              "Отвратительно                                                             1\n",
              "Очень  хорошо. Обслуживания  я довольно. Спасибо вам.555                  1\n",
              "3 тройка, связь отвратительная, жалко платить за такой тарив              1\n",
              "3, 7                                                                      1\n",
              "1, 8                                                                      1\n",
              "Немагу дать атценку денги незашто снимаеть скоро выклучаю                 1\n",
              "3, 9                                                                      1\n",
              "Пока не понял                                                             1\n",
              "20, 89031081392                                                           1\n",
              "1, 6                                                                      1\n",
              "Я ценой услуг не удовлетворен                                             1\n",
              "2, 9                                                                      1\n",
              "4. Тульская область Заокский район. Романовские дачи связи почти нет      1\n",
              "Чдтчдтччдтччч                                                             1\n",
              "10, 5                                                                     1\n",
              "Чем даль ше,тем лучше.Спасибо за ваш труд.Оценка 10 !                     1\n",
              "Ужасно                                                                    1\n",
              "10, 50                                                                    1\n",
              "Без з                                                                     1\n",
              "0, 1, 5                                                                   1\n",
              "11                                                                        1\n",
              "***** ** ***                                                              1\n",
              "10, 9                                                                     1\n",
              "2, 5                                                                      1\n",
              "Hi                                                                        1\n",
              "Я в Смол. Области живу сейчас, не пользуюсь телефоном совсем              1\n",
              "Поохое                                                                    1\n",
              "?                                                                         1\n",
              "ОЦЕНКА-3/НЕВАЖНО/                                                         1\n",
              "Name: q1, dtype: int64"
            ]
          },
          "metadata": {
            "tags": []
          },
          "execution_count": 13
        }
      ]
    },
    {
      "cell_type": "markdown",
      "metadata": {
        "id": "eM65nSbeNiE5"
      },
      "source": [
        "Есть небольшое количество ответов отличающихся от предполагаемых, т.к. их около 1% удалим строчки содержащие такие ответы, а 0 изменим на 1."
      ]
    },
    {
      "cell_type": "code",
      "metadata": {
        "colab": {
          "base_uri": "https://localhost:8080/"
        },
        "id": "JcXRaEKyNlKG",
        "outputId": "13dfd6be-07e8-404a-aa3c-78564753ef42"
      },
      "source": [
        "df_megafon['q1'][df_megafon['q1']=='0']='1'\n",
        "df_megafon = df_megafon[df_megafon['q1'].isin(('1','2','3','4','5','6','7','8','9','10'))]\n",
        "df_megafon['q1'].value_counts()"
      ],
      "execution_count": null,
      "outputs": [
        {
          "output_type": "stream",
          "text": [
            "/usr/local/lib/python3.6/dist-packages/ipykernel_launcher.py:1: SettingWithCopyWarning:\n",
            "\n",
            "\n",
            "A value is trying to be set on a copy of a slice from a DataFrame\n",
            "\n",
            "See the caveats in the documentation: https://pandas.pydata.org/pandas-docs/stable/user_guide/indexing.html#returning-a-view-versus-a-copy\n",
            "\n"
          ],
          "name": "stderr"
        },
        {
          "output_type": "execute_result",
          "data": {
            "text/plain": [
              "10    846\n",
              "1     542\n",
              "3     325\n",
              "8     291\n",
              "9     238\n",
              "5     234\n",
              "7     200\n",
              "2     168\n",
              "4     123\n",
              "6     101\n",
              "Name: q1, dtype: int64"
            ]
          },
          "metadata": {
            "tags": []
          },
          "execution_count": 14
        }
      ]
    },
    {
      "cell_type": "code",
      "metadata": {
        "colab": {
          "base_uri": "https://localhost:8080/"
        },
        "id": "twUztMXLNrJH",
        "outputId": "414cdcd9-8ad6-4e2d-bb37-9dbdf2197db4"
      },
      "source": [
        "#Посмотрим ответы на второй вопрос\n",
        "df_megafon['q2'].value_counts()"
      ],
      "execution_count": null,
      "outputs": [
        {
          "output_type": "execute_result",
          "data": {
            "text/plain": [
              "3                   190\n",
              "4                   170\n",
              "1                   168\n",
              "1, 3                121\n",
              "3, 4                 85\n",
              "1, 3, 4              76\n",
              "7                    64\n",
              "1, 4                 56\n",
              "3, 4, 5              45\n",
              "1, 2, 3              44\n",
              "1, 3, 4, 5           40\n",
              "4, 5                 30\n",
              "1, 4, 5              27\n",
              "1, 2, 3, 4, 5        27\n",
              "1, 2                 22\n",
              "1, 2, 3, 4           18\n",
              "2, 3                 12\n",
              "1, 2, 4              11\n",
              "2, 3, 4              11\n",
              "2                    11\n",
              "6                    10\n",
              "5                     9\n",
              "3, 5                  8\n",
              "1, 5                  7\n",
              "1, 2, 4, 5            4\n",
              "1, 2, 3, 5            4\n",
              "2, 4                  4\n",
              "3, 4, 5, 7            3\n",
              "2, 3, 4, 5            3\n",
              "1, 2, 5               3\n",
              "1, 3, 5               3\n",
              "1, 4, 7               3\n",
              "1, 3, 7               2\n",
              "1, 3, 4, 5, 7         2\n",
              "2, 4, 5               2\n",
              "3, 4, 7               2\n",
              "1, 2, 3, 4, 5, 6      2\n",
              "1, 3, 4, 7            2\n",
              "3, 7                  2\n",
              "5, 6                  1\n",
              "10                    1\n",
              "1, 2, 34              1\n",
              "2, 5                  1\n",
              "1, 2, 3, 4, 7         1\n",
              "0, 3                  1\n",
              "0                     1\n",
              "1, 2, 7               1\n",
              "0, 05, 2, 27, 7       1\n",
              "1, 2, 3, 7            1\n",
              "4, 7                  1\n",
              "0, 1, 7               1\n",
              "Name: q2, dtype: int64"
            ]
          },
          "metadata": {
            "tags": []
          },
          "execution_count": 15
        }
      ]
    },
    {
      "cell_type": "markdown",
      "metadata": {
        "id": "Y-D17K6ZNwJE"
      },
      "source": [
        "Во многих ответах содержится не 1 проблема, а несколько. Создадим новый датафрейм, в котором посчитаем количество проблем, и добавим описание проблемы."
      ]
    },
    {
      "cell_type": "code",
      "metadata": {
        "colab": {
          "base_uri": "https://localhost:8080/",
          "height": 266
        },
        "id": "bzc4sI41Nvno",
        "outputId": "31a0b0b9-664d-4225-edaf-ff948c71d6c4"
      },
      "source": [
        "count = [0]*7\n",
        "for i in df_megafon['q2'].dropna():\n",
        "  for j in i:\n",
        "    if j in ('1','2','3','4','5','6','7'):\n",
        "      j = int(j)\n",
        "      count[j-1] += 1\n",
        "count\n",
        "q2 = pd.DataFrame(index=(1,2,3,4,5,6,7))\n",
        "q2['problem'] = ['Недозвоны, обрывы при звонках', 'Время ожидания гудков при звонке',\n",
        "                 'Плохое качество связи в зданиях', 'Медленный мобильный Интернет',\n",
        "                 'Медленная загрузка видео', 'Затрудняюсь ответить',\n",
        "                 'Свой вариант']\n",
        "q2['count'] = count\n",
        "q2"
      ],
      "execution_count": null,
      "outputs": [
        {
          "output_type": "execute_result",
          "data": {
            "text/html": [
              "<div>\n",
              "<style scoped>\n",
              "    .dataframe tbody tr th:only-of-type {\n",
              "        vertical-align: middle;\n",
              "    }\n",
              "\n",
              "    .dataframe tbody tr th {\n",
              "        vertical-align: top;\n",
              "    }\n",
              "\n",
              "    .dataframe thead th {\n",
              "        text-align: right;\n",
              "    }\n",
              "</style>\n",
              "<table border=\"1\" class=\"dataframe\">\n",
              "  <thead>\n",
              "    <tr style=\"text-align: right;\">\n",
              "      <th></th>\n",
              "      <th>problem</th>\n",
              "      <th>count</th>\n",
              "    </tr>\n",
              "  </thead>\n",
              "  <tbody>\n",
              "    <tr>\n",
              "      <th>1</th>\n",
              "      <td>Недозвоны, обрывы при звонках</td>\n",
              "      <td>648</td>\n",
              "    </tr>\n",
              "    <tr>\n",
              "      <th>2</th>\n",
              "      <td>Время ожидания гудков при звонке</td>\n",
              "      <td>185</td>\n",
              "    </tr>\n",
              "    <tr>\n",
              "      <th>3</th>\n",
              "      <td>Плохое качество связи в зданиях</td>\n",
              "      <td>706</td>\n",
              "    </tr>\n",
              "    <tr>\n",
              "      <th>4</th>\n",
              "      <td>Медленный мобильный Интернет</td>\n",
              "      <td>626</td>\n",
              "    </tr>\n",
              "    <tr>\n",
              "      <th>5</th>\n",
              "      <td>Медленная загрузка видео</td>\n",
              "      <td>222</td>\n",
              "    </tr>\n",
              "    <tr>\n",
              "      <th>6</th>\n",
              "      <td>Затрудняюсь ответить</td>\n",
              "      <td>13</td>\n",
              "    </tr>\n",
              "    <tr>\n",
              "      <th>7</th>\n",
              "      <td>Свой вариант</td>\n",
              "      <td>87</td>\n",
              "    </tr>\n",
              "  </tbody>\n",
              "</table>\n",
              "</div>"
            ],
            "text/plain": [
              "                            problem  count\n",
              "1     Недозвоны, обрывы при звонках    648\n",
              "2  Время ожидания гудков при звонке    185\n",
              "3   Плохое качество связи в зданиях    706\n",
              "4      Медленный мобильный Интернет    626\n",
              "5          Медленная загрузка видео    222\n",
              "6              Затрудняюсь ответить     13\n",
              "7                      Свой вариант     87"
            ]
          },
          "metadata": {
            "tags": []
          },
          "execution_count": 16
        }
      ]
    },
    {
      "cell_type": "markdown",
      "metadata": {
        "id": "aAjpTaC_WC9Y"
      },
      "source": [
        "Визуализируем данные с помощью круговой диаграммы, чтобы увидеть какие проблемы отмечают чаще других."
      ]
    },
    {
      "cell_type": "code",
      "metadata": {
        "colab": {
          "base_uri": "https://localhost:8080/",
          "height": 542
        },
        "id": "NAZK91DQN4uT",
        "outputId": "f961b738-117c-4719-d82d-5954a3affa08"
      },
      "source": [
        ""
      ],
      "execution_count": null,
      "outputs": [
        {
          "output_type": "display_data",
          "data": {
            "text/html": [
              "<html>\n",
              "<head><meta charset=\"utf-8\" /></head>\n",
              "<body>\n",
              "    <div>\n",
              "            <script src=\"https://cdnjs.cloudflare.com/ajax/libs/mathjax/2.7.5/MathJax.js?config=TeX-AMS-MML_SVG\"></script><script type=\"text/javascript\">if (window.MathJax) {MathJax.Hub.Config({SVG: {font: \"STIX-Web\"}});}</script>\n",
              "                <script type=\"text/javascript\">window.PlotlyConfig = {MathJaxConfig: 'local'};</script>\n",
              "        <script src=\"https://cdn.plot.ly/plotly-latest.min.js\"></script>    \n",
              "            <div id=\"697b752f-85a7-448d-81a9-28fef5776fbf\" class=\"plotly-graph-div\" style=\"height:525px; width:100%;\"></div>\n",
              "            <script type=\"text/javascript\">\n",
              "                \n",
              "                    window.PLOTLYENV=window.PLOTLYENV || {};\n",
              "                    \n",
              "                if (document.getElementById(\"697b752f-85a7-448d-81a9-28fef5776fbf\")) {\n",
              "                    Plotly.newPlot(\n",
              "                        '697b752f-85a7-448d-81a9-28fef5776fbf',\n",
              "                        [{\"labels\": [\"\\u041d\\u0435\\u0434\\u043e\\u0437\\u0432\\u043e\\u043d\\u044b, \\u043e\\u0431\\u0440\\u044b\\u0432\\u044b \\u043f\\u0440\\u0438 \\u0437\\u0432\\u043e\\u043d\\u043a\\u0430\\u0445\", \"\\u0412\\u0440\\u0435\\u043c\\u044f \\u043e\\u0436\\u0438\\u0434\\u0430\\u043d\\u0438\\u044f \\u0433\\u0443\\u0434\\u043a\\u043e\\u0432 \\u043f\\u0440\\u0438 \\u0437\\u0432\\u043e\\u043d\\u043a\\u0435\", \"\\u041f\\u043b\\u043e\\u0445\\u043e\\u0435 \\u043a\\u0430\\u0447\\u0435\\u0441\\u0442\\u0432\\u043e \\u0441\\u0432\\u044f\\u0437\\u0438 \\u0432 \\u0437\\u0434\\u0430\\u043d\\u0438\\u044f\\u0445\", \"\\u041c\\u0435\\u0434\\u043b\\u0435\\u043d\\u043d\\u044b\\u0439 \\u043c\\u043e\\u0431\\u0438\\u043b\\u044c\\u043d\\u044b\\u0439 \\u0418\\u043d\\u0442\\u0435\\u0440\\u043d\\u0435\\u0442\", \"\\u041c\\u0435\\u0434\\u043b\\u0435\\u043d\\u043d\\u0430\\u044f \\u0437\\u0430\\u0433\\u0440\\u0443\\u0437\\u043a\\u0430 \\u0432\\u0438\\u0434\\u0435\\u043e\", \"\\u0417\\u0430\\u0442\\u0440\\u0443\\u0434\\u043d\\u044f\\u044e\\u0441\\u044c \\u043e\\u0442\\u0432\\u0435\\u0442\\u0438\\u0442\\u044c\", \"\\u0421\\u0432\\u043e\\u0439 \\u0432\\u0430\\u0440\\u0438\\u0430\\u043d\\u0442\"], \"type\": \"pie\", \"values\": [648, 185, 706, 626, 222, 13, 87]}],\n",
              "                        {\"template\": {\"data\": {\"bar\": [{\"error_x\": {\"color\": \"#2a3f5f\"}, \"error_y\": {\"color\": \"#2a3f5f\"}, \"marker\": {\"line\": {\"color\": \"#E5ECF6\", \"width\": 0.5}}, \"type\": \"bar\"}], \"barpolar\": [{\"marker\": {\"line\": {\"color\": \"#E5ECF6\", \"width\": 0.5}}, \"type\": \"barpolar\"}], \"carpet\": [{\"aaxis\": {\"endlinecolor\": \"#2a3f5f\", \"gridcolor\": \"white\", \"linecolor\": \"white\", \"minorgridcolor\": \"white\", \"startlinecolor\": \"#2a3f5f\"}, \"baxis\": {\"endlinecolor\": \"#2a3f5f\", \"gridcolor\": \"white\", \"linecolor\": \"white\", \"minorgridcolor\": \"white\", \"startlinecolor\": \"#2a3f5f\"}, \"type\": \"carpet\"}], \"choropleth\": [{\"colorbar\": {\"outlinewidth\": 0, \"ticks\": \"\"}, \"type\": \"choropleth\"}], \"contour\": [{\"colorbar\": {\"outlinewidth\": 0, \"ticks\": \"\"}, \"colorscale\": [[0.0, \"#0d0887\"], [0.1111111111111111, \"#46039f\"], [0.2222222222222222, \"#7201a8\"], [0.3333333333333333, \"#9c179e\"], [0.4444444444444444, \"#bd3786\"], [0.5555555555555556, \"#d8576b\"], [0.6666666666666666, \"#ed7953\"], [0.7777777777777778, \"#fb9f3a\"], [0.8888888888888888, \"#fdca26\"], [1.0, \"#f0f921\"]], \"type\": \"contour\"}], \"contourcarpet\": [{\"colorbar\": {\"outlinewidth\": 0, \"ticks\": \"\"}, \"type\": \"contourcarpet\"}], \"heatmap\": [{\"colorbar\": {\"outlinewidth\": 0, \"ticks\": \"\"}, \"colorscale\": [[0.0, \"#0d0887\"], [0.1111111111111111, \"#46039f\"], [0.2222222222222222, \"#7201a8\"], [0.3333333333333333, \"#9c179e\"], [0.4444444444444444, \"#bd3786\"], [0.5555555555555556, \"#d8576b\"], [0.6666666666666666, \"#ed7953\"], [0.7777777777777778, \"#fb9f3a\"], [0.8888888888888888, \"#fdca26\"], [1.0, \"#f0f921\"]], \"type\": \"heatmap\"}], \"heatmapgl\": [{\"colorbar\": {\"outlinewidth\": 0, \"ticks\": \"\"}, \"colorscale\": [[0.0, \"#0d0887\"], [0.1111111111111111, \"#46039f\"], [0.2222222222222222, \"#7201a8\"], [0.3333333333333333, \"#9c179e\"], [0.4444444444444444, \"#bd3786\"], [0.5555555555555556, \"#d8576b\"], [0.6666666666666666, \"#ed7953\"], [0.7777777777777778, \"#fb9f3a\"], [0.8888888888888888, \"#fdca26\"], [1.0, \"#f0f921\"]], \"type\": \"heatmapgl\"}], \"histogram\": [{\"marker\": {\"colorbar\": {\"outlinewidth\": 0, \"ticks\": \"\"}}, \"type\": \"histogram\"}], \"histogram2d\": [{\"colorbar\": {\"outlinewidth\": 0, \"ticks\": \"\"}, \"colorscale\": [[0.0, \"#0d0887\"], [0.1111111111111111, \"#46039f\"], [0.2222222222222222, \"#7201a8\"], [0.3333333333333333, \"#9c179e\"], [0.4444444444444444, \"#bd3786\"], [0.5555555555555556, \"#d8576b\"], [0.6666666666666666, \"#ed7953\"], [0.7777777777777778, \"#fb9f3a\"], [0.8888888888888888, \"#fdca26\"], [1.0, \"#f0f921\"]], \"type\": \"histogram2d\"}], \"histogram2dcontour\": [{\"colorbar\": {\"outlinewidth\": 0, \"ticks\": \"\"}, \"colorscale\": [[0.0, \"#0d0887\"], [0.1111111111111111, \"#46039f\"], [0.2222222222222222, \"#7201a8\"], [0.3333333333333333, \"#9c179e\"], [0.4444444444444444, \"#bd3786\"], [0.5555555555555556, \"#d8576b\"], [0.6666666666666666, \"#ed7953\"], [0.7777777777777778, \"#fb9f3a\"], [0.8888888888888888, \"#fdca26\"], [1.0, \"#f0f921\"]], \"type\": \"histogram2dcontour\"}], \"mesh3d\": [{\"colorbar\": {\"outlinewidth\": 0, \"ticks\": \"\"}, \"type\": \"mesh3d\"}], \"parcoords\": [{\"line\": {\"colorbar\": {\"outlinewidth\": 0, \"ticks\": \"\"}}, \"type\": \"parcoords\"}], \"pie\": [{\"automargin\": true, \"type\": \"pie\"}], \"scatter\": [{\"marker\": {\"colorbar\": {\"outlinewidth\": 0, \"ticks\": \"\"}}, \"type\": \"scatter\"}], \"scatter3d\": [{\"line\": {\"colorbar\": {\"outlinewidth\": 0, \"ticks\": \"\"}}, \"marker\": {\"colorbar\": {\"outlinewidth\": 0, \"ticks\": \"\"}}, \"type\": \"scatter3d\"}], \"scattercarpet\": [{\"marker\": {\"colorbar\": {\"outlinewidth\": 0, \"ticks\": \"\"}}, \"type\": \"scattercarpet\"}], \"scattergeo\": [{\"marker\": {\"colorbar\": {\"outlinewidth\": 0, \"ticks\": \"\"}}, \"type\": \"scattergeo\"}], \"scattergl\": [{\"marker\": {\"colorbar\": {\"outlinewidth\": 0, \"ticks\": \"\"}}, \"type\": \"scattergl\"}], \"scattermapbox\": [{\"marker\": {\"colorbar\": {\"outlinewidth\": 0, \"ticks\": \"\"}}, \"type\": \"scattermapbox\"}], \"scatterpolar\": [{\"marker\": {\"colorbar\": {\"outlinewidth\": 0, \"ticks\": \"\"}}, \"type\": \"scatterpolar\"}], \"scatterpolargl\": [{\"marker\": {\"colorbar\": {\"outlinewidth\": 0, \"ticks\": \"\"}}, \"type\": \"scatterpolargl\"}], \"scatterternary\": [{\"marker\": {\"colorbar\": {\"outlinewidth\": 0, \"ticks\": \"\"}}, \"type\": \"scatterternary\"}], \"surface\": [{\"colorbar\": {\"outlinewidth\": 0, \"ticks\": \"\"}, \"colorscale\": [[0.0, \"#0d0887\"], [0.1111111111111111, \"#46039f\"], [0.2222222222222222, \"#7201a8\"], [0.3333333333333333, \"#9c179e\"], [0.4444444444444444, \"#bd3786\"], [0.5555555555555556, \"#d8576b\"], [0.6666666666666666, \"#ed7953\"], [0.7777777777777778, \"#fb9f3a\"], [0.8888888888888888, \"#fdca26\"], [1.0, \"#f0f921\"]], \"type\": \"surface\"}], \"table\": [{\"cells\": {\"fill\": {\"color\": \"#EBF0F8\"}, \"line\": {\"color\": \"white\"}}, \"header\": {\"fill\": {\"color\": \"#C8D4E3\"}, \"line\": {\"color\": \"white\"}}, \"type\": \"table\"}]}, \"layout\": {\"annotationdefaults\": {\"arrowcolor\": \"#2a3f5f\", \"arrowhead\": 0, \"arrowwidth\": 1}, \"coloraxis\": {\"colorbar\": {\"outlinewidth\": 0, \"ticks\": \"\"}}, \"colorscale\": {\"diverging\": [[0, \"#8e0152\"], [0.1, \"#c51b7d\"], [0.2, \"#de77ae\"], [0.3, \"#f1b6da\"], [0.4, \"#fde0ef\"], [0.5, \"#f7f7f7\"], [0.6, \"#e6f5d0\"], [0.7, \"#b8e186\"], [0.8, \"#7fbc41\"], [0.9, \"#4d9221\"], [1, \"#276419\"]], \"sequential\": [[0.0, \"#0d0887\"], [0.1111111111111111, \"#46039f\"], [0.2222222222222222, \"#7201a8\"], [0.3333333333333333, \"#9c179e\"], [0.4444444444444444, \"#bd3786\"], [0.5555555555555556, \"#d8576b\"], [0.6666666666666666, \"#ed7953\"], [0.7777777777777778, \"#fb9f3a\"], [0.8888888888888888, \"#fdca26\"], [1.0, \"#f0f921\"]], \"sequentialminus\": [[0.0, \"#0d0887\"], [0.1111111111111111, \"#46039f\"], [0.2222222222222222, \"#7201a8\"], [0.3333333333333333, \"#9c179e\"], [0.4444444444444444, \"#bd3786\"], [0.5555555555555556, \"#d8576b\"], [0.6666666666666666, \"#ed7953\"], [0.7777777777777778, \"#fb9f3a\"], [0.8888888888888888, \"#fdca26\"], [1.0, \"#f0f921\"]]}, \"colorway\": [\"#636efa\", \"#EF553B\", \"#00cc96\", \"#ab63fa\", \"#FFA15A\", \"#19d3f3\", \"#FF6692\", \"#B6E880\", \"#FF97FF\", \"#FECB52\"], \"font\": {\"color\": \"#2a3f5f\"}, \"geo\": {\"bgcolor\": \"white\", \"lakecolor\": \"white\", \"landcolor\": \"#E5ECF6\", \"showlakes\": true, \"showland\": true, \"subunitcolor\": \"white\"}, \"hoverlabel\": {\"align\": \"left\"}, \"hovermode\": \"closest\", \"mapbox\": {\"style\": \"light\"}, \"paper_bgcolor\": \"white\", \"plot_bgcolor\": \"#E5ECF6\", \"polar\": {\"angularaxis\": {\"gridcolor\": \"white\", \"linecolor\": \"white\", \"ticks\": \"\"}, \"bgcolor\": \"#E5ECF6\", \"radialaxis\": {\"gridcolor\": \"white\", \"linecolor\": \"white\", \"ticks\": \"\"}}, \"scene\": {\"xaxis\": {\"backgroundcolor\": \"#E5ECF6\", \"gridcolor\": \"white\", \"gridwidth\": 2, \"linecolor\": \"white\", \"showbackground\": true, \"ticks\": \"\", \"zerolinecolor\": \"white\"}, \"yaxis\": {\"backgroundcolor\": \"#E5ECF6\", \"gridcolor\": \"white\", \"gridwidth\": 2, \"linecolor\": \"white\", \"showbackground\": true, \"ticks\": \"\", \"zerolinecolor\": \"white\"}, \"zaxis\": {\"backgroundcolor\": \"#E5ECF6\", \"gridcolor\": \"white\", \"gridwidth\": 2, \"linecolor\": \"white\", \"showbackground\": true, \"ticks\": \"\", \"zerolinecolor\": \"white\"}}, \"shapedefaults\": {\"line\": {\"color\": \"#2a3f5f\"}}, \"ternary\": {\"aaxis\": {\"gridcolor\": \"white\", \"linecolor\": \"white\", \"ticks\": \"\"}, \"baxis\": {\"gridcolor\": \"white\", \"linecolor\": \"white\", \"ticks\": \"\"}, \"bgcolor\": \"#E5ECF6\", \"caxis\": {\"gridcolor\": \"white\", \"linecolor\": \"white\", \"ticks\": \"\"}}, \"title\": {\"x\": 0.05}, \"xaxis\": {\"automargin\": true, \"gridcolor\": \"white\", \"linecolor\": \"white\", \"ticks\": \"\", \"title\": {\"standoff\": 15}, \"zerolinecolor\": \"white\", \"zerolinewidth\": 2}, \"yaxis\": {\"automargin\": true, \"gridcolor\": \"white\", \"linecolor\": \"white\", \"ticks\": \"\", \"title\": {\"standoff\": 15}, \"zerolinecolor\": \"white\", \"zerolinewidth\": 2}}}, \"title\": {\"font\": {\"size\": 16}, \"text\": \"\\u041e\\u0442\\u0432\\u0435\\u0442\\u044b \\u043d\\u0430 \\u0432\\u0442\\u043e\\u0440\\u043e\\u0439 \\u0432\\u043e\\u043f\\u0440\\u043e\\u0441\", \"x\": 0.5}},\n",
              "                        {\"responsive\": true}\n",
              "                    ).then(function(){\n",
              "                            \n",
              "var gd = document.getElementById('697b752f-85a7-448d-81a9-28fef5776fbf');\n",
              "var x = new MutationObserver(function (mutations, observer) {{\n",
              "        var display = window.getComputedStyle(gd).display;\n",
              "        if (!display || display === 'none') {{\n",
              "            console.log([gd, 'removed!']);\n",
              "            Plotly.purge(gd);\n",
              "            observer.disconnect();\n",
              "        }}\n",
              "}});\n",
              "\n",
              "// Listen for the removal of the full notebook cells\n",
              "var notebookContainer = gd.closest('#notebook-container');\n",
              "if (notebookContainer) {{\n",
              "    x.observe(notebookContainer, {childList: true});\n",
              "}}\n",
              "\n",
              "// Listen for the clearing of the current output cell\n",
              "var outputEl = gd.closest('.output');\n",
              "if (outputEl) {{\n",
              "    x.observe(outputEl, {childList: true});\n",
              "}}\n",
              "\n",
              "                        })\n",
              "                };\n",
              "                \n",
              "            </script>\n",
              "        </div>\n",
              "</body>\n",
              "</html>"
            ]
          },
          "metadata": {
            "tags": []
          }
        }
      ]
    },
    {
      "cell_type": "markdown",
      "metadata": {
        "id": "8fiq5Lw3N9Fv"
      },
      "source": [
        "Около 80% всех проблем:\n",
        "* плохое качество связи в зданиях 28.4%. \n",
        "* недозвоны, обрывы при звонках 26.1%. \n",
        "* медленный мобильный интернет 25.2%.\n",
        "\n",
        "Проблем связанных с интернетом около 34% "
      ]
    },
    {
      "cell_type": "markdown",
      "metadata": {
        "id": "VkV5UApvO4qb"
      },
      "source": [
        "**Формулирование вопросов к данным или статистических гипотез о данных:**\n",
        "* Верно ли, что у группы, отметившей проблемой медленный мобильный интернет, и у группы, не отметившей эту проблему значение средней скорости «к абоненту»  статистически достоверно различаются?\n",
        "* У группы, отметившей проблемой медленная загрузка видео, и у группы, не отметившей эту проблему, какие показатели статистически различаются: скорость загрузки потокового видео или задержка старта воспроизведения видео?\n",
        "* На основании данных какое самое вероятное значение частоты переотправок пакетов «к абоненту» у группы, отметившей проблемы связанные с интернетом? Каков доверительный интервал для неё?"
      ]
    },
    {
      "cell_type": "markdown",
      "metadata": {
        "id": "Am9L3eGCgikv"
      },
      "source": [
        "# Средняя скорость «к абоненту»"
      ]
    },
    {
      "cell_type": "markdown",
      "metadata": {
        "id": "W1y5e5BDUPV-"
      },
      "source": [
        "Верно ли, что у группы, отметившей проблемой медленный мобильный, и у группы, не отметившей эту проблему значение средней скорости «к абоненту»  статистически достоверно различаются?\n",
        "\n",
        "Ответ на этот вопрос покажет, влияет ли данная величина на оценку пользоватеелей. Это поможет компании  выбрать наиболее важные задачи для технического отдела."
      ]
    },
    {
      "cell_type": "code",
      "metadata": {
        "id": "8Xq4u8gd_-mn"
      },
      "source": [
        "#Заменим пропущенные значения на 0, для более удобной работы с данными\n",
        "df_megafon = df_megafon.fillna('0') "
      ],
      "execution_count": null,
      "outputs": []
    },
    {
      "cell_type": "code",
      "metadata": {
        "colab": {
          "base_uri": "https://localhost:8080/",
          "height": 450
        },
        "id": "cyhY1mgKN6od",
        "outputId": "0578059d-b239-4269-9ee8-091ccb3aa460"
      },
      "source": [
        "#Создадим новый датафрейм для проверки гипотезы\n",
        "df_downlink = df_megafon[['q2','downlink']].copy()\n",
        "df_downlink['group'] = ['A' if '4' in i else 'B' for i in df_downlink['q2']]\n",
        "df_downlink"
      ],
      "execution_count": null,
      "outputs": [
        {
          "output_type": "execute_result",
          "data": {
            "text/html": [
              "<div>\n",
              "<style scoped>\n",
              "    .dataframe tbody tr th:only-of-type {\n",
              "        vertical-align: middle;\n",
              "    }\n",
              "\n",
              "    .dataframe tbody tr th {\n",
              "        vertical-align: top;\n",
              "    }\n",
              "\n",
              "    .dataframe thead th {\n",
              "        text-align: right;\n",
              "    }\n",
              "</style>\n",
              "<table border=\"1\" class=\"dataframe\">\n",
              "  <thead>\n",
              "    <tr style=\"text-align: right;\">\n",
              "      <th></th>\n",
              "      <th>q2</th>\n",
              "      <th>downlink</th>\n",
              "      <th>group</th>\n",
              "    </tr>\n",
              "    <tr>\n",
              "      <th>user_id</th>\n",
              "      <th></th>\n",
              "      <th></th>\n",
              "      <th></th>\n",
              "    </tr>\n",
              "  </thead>\n",
              "  <tbody>\n",
              "    <tr>\n",
              "      <th>1</th>\n",
              "      <td>0</td>\n",
              "      <td>360.13</td>\n",
              "      <td>B</td>\n",
              "    </tr>\n",
              "    <tr>\n",
              "      <th>2</th>\n",
              "      <td>4</td>\n",
              "      <td>3023.54</td>\n",
              "      <td>A</td>\n",
              "    </tr>\n",
              "    <tr>\n",
              "      <th>3</th>\n",
              "      <td>4</td>\n",
              "      <td>790.96</td>\n",
              "      <td>A</td>\n",
              "    </tr>\n",
              "    <tr>\n",
              "      <th>4</th>\n",
              "      <td>3</td>\n",
              "      <td>2590.97</td>\n",
              "      <td>B</td>\n",
              "    </tr>\n",
              "    <tr>\n",
              "      <th>5</th>\n",
              "      <td>2, 3, 4</td>\n",
              "      <td>731.61</td>\n",
              "      <td>A</td>\n",
              "    </tr>\n",
              "    <tr>\n",
              "      <th>...</th>\n",
              "      <td>...</td>\n",
              "      <td>...</td>\n",
              "      <td>...</td>\n",
              "    </tr>\n",
              "    <tr>\n",
              "      <th>3108</th>\n",
              "      <td>1, 4, 5</td>\n",
              "      <td>1045.70</td>\n",
              "      <td>A</td>\n",
              "    </tr>\n",
              "    <tr>\n",
              "      <th>3109</th>\n",
              "      <td>1, 3, 4, 5</td>\n",
              "      <td>670.32</td>\n",
              "      <td>A</td>\n",
              "    </tr>\n",
              "    <tr>\n",
              "      <th>3110</th>\n",
              "      <td>0</td>\n",
              "      <td>590.29</td>\n",
              "      <td>B</td>\n",
              "    </tr>\n",
              "    <tr>\n",
              "      <th>3111</th>\n",
              "      <td>1, 3</td>\n",
              "      <td>1841.90</td>\n",
              "      <td>B</td>\n",
              "    </tr>\n",
              "    <tr>\n",
              "      <th>3112</th>\n",
              "      <td>0</td>\n",
              "      <td>2196.00</td>\n",
              "      <td>B</td>\n",
              "    </tr>\n",
              "  </tbody>\n",
              "</table>\n",
              "<p>3068 rows × 3 columns</p>\n",
              "</div>"
            ],
            "text/plain": [
              "                 q2  downlink group\n",
              "user_id                            \n",
              "1                 0    360.13     B\n",
              "2                 4   3023.54     A\n",
              "3                 4    790.96     A\n",
              "4                 3   2590.97     B\n",
              "5           2, 3, 4    731.61     A\n",
              "...             ...       ...   ...\n",
              "3108        1, 4, 5   1045.70     A\n",
              "3109     1, 3, 4, 5    670.32     A\n",
              "3110              0    590.29     B\n",
              "3111           1, 3   1841.90     B\n",
              "3112              0   2196.00     B\n",
              "\n",
              "[3068 rows x 3 columns]"
            ]
          },
          "metadata": {
            "tags": []
          },
          "execution_count": 19
        }
      ]
    },
    {
      "cell_type": "markdown",
      "metadata": {
        "id": "lujSXoYyCKGx"
      },
      "source": [
        "Посмотрим на распределение значений в зависимости от группы, для этого построим гистограмму."
      ]
    },
    {
      "cell_type": "code",
      "metadata": {
        "id": "ikCG15NB6hWc"
      },
      "source": [
        "#Создадим функцию выводящию базовые метрики и гистограмму.\n",
        "def basic_research(df, column):\n",
        "  print('Базовые метрики')\n",
        "  print(df.groupby('group')[column].describe())\n",
        "  sns.histplot(df.loc[df['group']=='A', column], label='A', color='red', stat='density')\n",
        "  sns.histplot(df.loc[df['group']=='B', column], label='B', color='blue', stat='density')\n",
        "  plt.legend()\n",
        "  plt.title('Распределение метрики')\n",
        "  plt.xlabel(column)"
      ],
      "execution_count": null,
      "outputs": []
    },
    {
      "cell_type": "code",
      "metadata": {
        "colab": {
          "base_uri": "https://localhost:8080/",
          "height": 414
        },
        "id": "Xb7GYbpNCidr",
        "outputId": "1036832a-b389-43c0-abe6-064f9572d1bb"
      },
      "source": [
        "basic_research(df = df_downlink, column = 'downlink')"
      ],
      "execution_count": null,
      "outputs": [
        {
          "output_type": "stream",
          "text": [
            "Базовые метрики\n",
            "        count         mean          std  ...       50%        75%       max\n",
            "group                                    ...                               \n",
            "A       626.0  1768.408930  2056.511905  ...  1110.715  2193.5925  18573.35\n",
            "B      2442.0  2329.101978  2730.242010  ...  1509.940  2965.8375  39817.64\n",
            "\n",
            "[2 rows x 8 columns]\n"
          ],
          "name": "stdout"
        },
        {
          "output_type": "display_data",
          "data": {
            "image/png": "[encoded data removed]",
            "text/plain": [
              "<Figure size 432x288 with 1 Axes>"
            ]
          },
          "metadata": {
            "tags": [],
            "needs_background": "light"
          }
        }
      ]
    },
    {
      "cell_type": "markdown",
      "metadata": {
        "id": "ltumf5yJReyU"
      },
      "source": [
        "Заметны различия между данными.\n",
        "\n",
        "Сформулируем нулевую и альтернативную гипотезы:\n",
        "* Нулевая гипотеза: Значение средней скорости «к абоненту» у группы, отметившей проблемой медленный мобильный интернет, и у группы, не отметившей эту проблему, не отличается.\n",
        "* Альтернативная гипотеза: Значение средней скорости «к абоненту» у группы, отметившей проблемой  медленный мобильный интернет меньше, чем у группы, не отметившей эту проблему.\n",
        "\n",
        "Проверим гипотезы с помощью бутстрэпа."
      ]
    },
    {
      "cell_type": "code",
      "metadata": {
        "id": "j6JVlE8TSYXU"
      },
      "source": [
        "#Создадим функцию для бутстрэпа\n",
        "def bootstrap(dat_a, dat_b, n=100, N_TRIAL = 1000,func = np.mean):\n",
        "  res = []\n",
        "  p1 = []\n",
        "  p2 = []\n",
        "  #bootstrap\n",
        "  for _ in range(N_TRIAL):\n",
        "    s1 = np.random.choice(dat_a, size = (n,))\n",
        "    s2 = np.random.choice(dat_b, size = (n,))\n",
        "    p1.append(func(s1))\n",
        "    p2.append(func(s2))\n",
        "    res.append(func(s1) - func(s2))\n",
        "  #Построение гистограмм\n",
        "  ax = sns.distplot(p1,label = 'A')\n",
        "  sns.distplot(p2,ax = ax,label = 'B')\n",
        "  ax.legend(['A','B'])\n",
        "  plt.title('распределение значений')\n",
        "  #Отметим квантеили 0.975 для группы A, 0.25 для группы B, и медианны для обоих групп \n",
        "  ax.axvline(np.percentile(p1,97.5),linestyle = '-',color='g')\n",
        "  ax.axvline(np.percentile(p1,50),linestyle = '-',color='r')\n",
        "\n",
        "  ax.axvline(np.percentile(p2,2.5),linestyle = '--',color='g')\n",
        "  ax.axvline(np.percentile(p2,50),linestyle = '--',color='r')\n",
        "  print()\n",
        "  return res"
      ],
      "execution_count": null,
      "outputs": []
    },
    {
      "cell_type": "code",
      "metadata": {
        "id": "vcm76kqKgTPF",
        "colab": {
          "base_uri": "https://localhost:8080/",
          "height": 454
        },
        "outputId": "ff3c85a3-c85d-4b73-d04d-ffdbe8a93c3a"
      },
      "source": [
        "differences = bootstrap(df_downlink.query(\"group=='A'\")['downlink'], \n",
        "                      df_downlink.query(\"group=='B'\")['downlink'], N_TRIAL = 3000)"
      ],
      "execution_count": null,
      "outputs": [
        {
          "output_type": "stream",
          "text": [
            "/usr/local/lib/python3.6/dist-packages/seaborn/distributions.py:2557: FutureWarning:\n",
            "\n",
            "`distplot` is a deprecated function and will be removed in a future version. Please adapt your code to use either `displot` (a figure-level function with similar flexibility) or `histplot` (an axes-level function for histograms).\n",
            "\n",
            "/usr/local/lib/python3.6/dist-packages/seaborn/distributions.py:2557: FutureWarning:\n",
            "\n",
            "`distplot` is a deprecated function and will be removed in a future version. Please adapt your code to use either `displot` (a figure-level function with similar flexibility) or `histplot` (an axes-level function for histograms).\n",
            "\n"
          ],
          "name": "stderr"
        },
        {
          "output_type": "stream",
          "text": [
            "\n"
          ],
          "name": "stdout"
        },
        {
          "output_type": "display_data",
          "data": {
            "image/png": "[encoded data removed]",
            "text/plain": [
              "<Figure size 432x288 with 1 Axes>"
            ]
          },
          "metadata": {
            "tags": [],
            "needs_background": "light"
          }
        }
      ]
    },
    {
      "cell_type": "code",
      "metadata": {
        "id": "dV4Yfqztn9ev"
      },
      "source": [
        "#Посчитаем среднюю разницу\n",
        "diff = df_downlink.query(\"group=='A'\")['downlink'].mean() -  df_downlink.query(\"group=='B'\")['downlink'].mean()"
      ],
      "execution_count": null,
      "outputs": []
    },
    {
      "cell_type": "code",
      "metadata": {
        "colab": {
          "base_uri": "https://localhost:8080/",
          "height": 298
        },
        "id": "l7gYXoTInzno",
        "outputId": "06245b6f-f735-4355-9dc7-17b8f6256627"
      },
      "source": [
        "#Построим гистограмму распределение разницы \n",
        "sns.histplot(differences)\n",
        "plt.axvline(diff, linestyle = '-',color='r')\n",
        "plt.title('Распределение разницы')"
      ],
      "execution_count": null,
      "outputs": [
        {
          "output_type": "execute_result",
          "data": {
            "text/plain": [
              "Text(0.5, 1.0, 'Распределение разницы')"
            ]
          },
          "metadata": {
            "tags": []
          },
          "execution_count": 71
        },
        {
          "output_type": "display_data",
          "data": {
            "image/png": "[encoded data removed]",
            "text/plain": [
              "<Figure size 432x288 with 1 Axes>"
            ]
          },
          "metadata": {
            "tags": [],
            "needs_background": "light"
          }
        }
      ]
    },
    {
      "cell_type": "code",
      "metadata": {
        "colab": {
          "base_uri": "https://localhost:8080/"
        },
        "id": "J7fGjIznm_AO",
        "outputId": "50b4575d-d17a-4d67-d4a5-d1e589131d2c"
      },
      "source": [
        "#Расчитаем p-value\n",
        "((differences - np.mean(differences)) <= diff).sum()/len(differences)"
      ],
      "execution_count": null,
      "outputs": [
        {
          "output_type": "execute_result",
          "data": {
            "text/plain": [
              "0.045"
            ]
          },
          "metadata": {
            "tags": []
          },
          "execution_count": 69
        }
      ]
    },
    {
      "cell_type": "code",
      "metadata": {
        "colab": {
          "base_uri": "https://localhost:8080/"
        },
        "id": "QxW-t14ZCnf3",
        "outputId": "320b94d0-fe92-46a2-ce19-0c1d9366a9b0"
      },
      "source": [
        "np.mean(differences)"
      ],
      "execution_count": null,
      "outputs": [
        {
          "output_type": "execute_result",
          "data": {
            "text/plain": [
              "-555.9635589333334"
            ]
          },
          "metadata": {
            "tags": []
          },
          "execution_count": 73
        }
      ]
    },
    {
      "cell_type": "markdown",
      "metadata": {
        "id": "S-EIGoQLCtbn"
      },
      "source": [
        "Вывод:\n",
        "\n",
        "На основании имеющихся данных, на уровне значимости 5% (уровне доверия 95%) есть основания отвергнуть нулевую гипотезу в пользу альтернативы.\n",
        "\n",
        "Средняя скорость «к абоненту» у группы, отметившей проблемой медленный мобильный интернет меньше, чем у группы, не отметившей эту проблему в среднем на 556 Kbps."
      ]
    },
    {
      "cell_type": "markdown",
      "metadata": {
        "id": "rHfE3I9ygtwY"
      },
      "source": [
        "# Медленная загрузка видео,"
      ]
    },
    {
      "cell_type": "markdown",
      "metadata": {
        "id": "sdl9tatFGPk9"
      },
      "source": [
        "У группы, отметившей проблемой медленная загрузка видео, и у группы, не отметившей эту проблему, какие показатели статистически различаются: скорость загрузки потокового видео или задержка старта воспроизведения видео?\n",
        "\n",
        "Ответ на этот вопрос поможет выбрать метрику, которая наиболее сильно беспокоит пользователей, что позволит техническому отделу компании  выбрать наиболее важную задачу."
      ]
    },
    {
      "cell_type": "code",
      "metadata": {
        "id": "STC150zdtPCU",
        "colab": {
          "base_uri": "https://localhost:8080/",
          "height": 450
        },
        "outputId": "1bfa30e1-abce-436c-8881-221c898bcffe"
      },
      "source": [
        "#Создадим новый датафрейм\n",
        "df_video = df_megafon[['q2', 'vs_download', 'vs_delay']].copy()\n",
        "df_video['group'] = ['A' if '5' in i else 'B' for i in df_video['q2']]\n",
        "df_video"
      ],
      "execution_count": null,
      "outputs": [
        {
          "output_type": "execute_result",
          "data": {
            "text/html": [
              "<div>\n",
              "<style scoped>\n",
              "    .dataframe tbody tr th:only-of-type {\n",
              "        vertical-align: middle;\n",
              "    }\n",
              "\n",
              "    .dataframe tbody tr th {\n",
              "        vertical-align: top;\n",
              "    }\n",
              "\n",
              "    .dataframe thead th {\n",
              "        text-align: right;\n",
              "    }\n",
              "</style>\n",
              "<table border=\"1\" class=\"dataframe\">\n",
              "  <thead>\n",
              "    <tr style=\"text-align: right;\">\n",
              "      <th></th>\n",
              "      <th>q2</th>\n",
              "      <th>vs_download</th>\n",
              "      <th>vs_delay</th>\n",
              "      <th>group</th>\n",
              "    </tr>\n",
              "    <tr>\n",
              "      <th>user_id</th>\n",
              "      <th></th>\n",
              "      <th></th>\n",
              "      <th></th>\n",
              "      <th></th>\n",
              "    </tr>\n",
              "  </thead>\n",
              "  <tbody>\n",
              "    <tr>\n",
              "      <th>1</th>\n",
              "      <td>0</td>\n",
              "      <td>1859.15</td>\n",
              "      <td>2309</td>\n",
              "      <td>B</td>\n",
              "    </tr>\n",
              "    <tr>\n",
              "      <th>2</th>\n",
              "      <td>4</td>\n",
              "      <td>667.47</td>\n",
              "      <td>2080</td>\n",
              "      <td>B</td>\n",
              "    </tr>\n",
              "    <tr>\n",
              "      <th>3</th>\n",
              "      <td>4</td>\n",
              "      <td>1079.60</td>\n",
              "      <td>6367</td>\n",
              "      <td>B</td>\n",
              "    </tr>\n",
              "    <tr>\n",
              "      <th>4</th>\n",
              "      <td>3</td>\n",
              "      <td>7053.81</td>\n",
              "      <td>3218</td>\n",
              "      <td>B</td>\n",
              "    </tr>\n",
              "    <tr>\n",
              "      <th>5</th>\n",
              "      <td>2, 3, 4</td>\n",
              "      <td>4550.38</td>\n",
              "      <td>1767</td>\n",
              "      <td>B</td>\n",
              "    </tr>\n",
              "    <tr>\n",
              "      <th>...</th>\n",
              "      <td>...</td>\n",
              "      <td>...</td>\n",
              "      <td>...</td>\n",
              "      <td>...</td>\n",
              "    </tr>\n",
              "    <tr>\n",
              "      <th>3108</th>\n",
              "      <td>1, 4, 5</td>\n",
              "      <td>4523.66</td>\n",
              "      <td>1468</td>\n",
              "      <td>A</td>\n",
              "    </tr>\n",
              "    <tr>\n",
              "      <th>3109</th>\n",
              "      <td>1, 3, 4, 5</td>\n",
              "      <td>1711.54</td>\n",
              "      <td>2780</td>\n",
              "      <td>A</td>\n",
              "    </tr>\n",
              "    <tr>\n",
              "      <th>3110</th>\n",
              "      <td>0</td>\n",
              "      <td>3182.83</td>\n",
              "      <td>2195</td>\n",
              "      <td>B</td>\n",
              "    </tr>\n",
              "    <tr>\n",
              "      <th>3111</th>\n",
              "      <td>1, 3</td>\n",
              "      <td>5675.93</td>\n",
              "      <td>1905</td>\n",
              "      <td>B</td>\n",
              "    </tr>\n",
              "    <tr>\n",
              "      <th>3112</th>\n",
              "      <td>0</td>\n",
              "      <td>9295.59</td>\n",
              "      <td>2036</td>\n",
              "      <td>B</td>\n",
              "    </tr>\n",
              "  </tbody>\n",
              "</table>\n",
              "<p>3068 rows × 4 columns</p>\n",
              "</div>"
            ],
            "text/plain": [
              "                 q2  vs_download  vs_delay group\n",
              "user_id                                         \n",
              "1                 0      1859.15      2309     B\n",
              "2                 4       667.47      2080     B\n",
              "3                 4      1079.60      6367     B\n",
              "4                 3      7053.81      3218     B\n",
              "5           2, 3, 4      4550.38      1767     B\n",
              "...             ...          ...       ...   ...\n",
              "3108        1, 4, 5      4523.66      1468     A\n",
              "3109     1, 3, 4, 5      1711.54      2780     A\n",
              "3110              0      3182.83      2195     B\n",
              "3111           1, 3      5675.93      1905     B\n",
              "3112              0      9295.59      2036     B\n",
              "\n",
              "[3068 rows x 4 columns]"
            ]
          },
          "metadata": {
            "tags": []
          },
          "execution_count": 74
        }
      ]
    },
    {
      "cell_type": "markdown",
      "metadata": {
        "id": "bc52icoEHQoB"
      },
      "source": [
        "Воспользуемся готовой функцией, для вывода базовых метрик и построения гистограммы."
      ]
    },
    {
      "cell_type": "code",
      "metadata": {
        "id": "Ub2sgz11x85T",
        "colab": {
          "base_uri": "https://localhost:8080/",
          "height": 415
        },
        "outputId": "b79e5a12-913d-4690-af58-5288a948d339"
      },
      "source": [
        "basic_research(df = df_video, column = 'vs_download')"
      ],
      "execution_count": null,
      "outputs": [
        {
          "output_type": "stream",
          "text": [
            "Базовые метрики\n",
            "        count         mean          std  ...       50%        75%       max\n",
            "group                                    ...                               \n",
            "A       222.0  3950.257072  3822.730728  ...  2927.745  4721.7400  26367.73\n",
            "B      2846.0  5870.482006  5221.069715  ...  4583.335  7767.2325  58566.03\n",
            "\n",
            "[2 rows x 8 columns]\n"
          ],
          "name": "stdout"
        },
        {
          "output_type": "display_data",
          "data": {
            "image/png": "[encoded data removed]",
            "text/plain": [
              "<Figure size 432x288 with 1 Axes>"
            ]
          },
          "metadata": {
            "tags": [],
            "needs_background": "light"
          }
        }
      ]
    },
    {
      "cell_type": "code",
      "metadata": {
        "id": "pcGFP8EQxZHB",
        "colab": {
          "base_uri": "https://localhost:8080/",
          "height": 415
        },
        "outputId": "a27c0ba2-4cc9-44a3-b6ea-903f3d4741dd"
      },
      "source": [
        "basic_research(df = df_video, column = 'vs_delay')"
      ],
      "execution_count": null,
      "outputs": [
        {
          "output_type": "stream",
          "text": [
            "Базовые метрики\n",
            "        count         mean          std  ...     50%      75%      max\n",
            "group                                    ...                          \n",
            "A       222.0  2305.743243  1570.518530  ...  1863.0  2639.50  15280.0\n",
            "B      2846.0  2096.451511  1590.017484  ...  1662.0  2285.75  21392.0\n",
            "\n",
            "[2 rows x 8 columns]\n"
          ],
          "name": "stdout"
        },
        {
          "output_type": "display_data",
          "data": {
            "image/png": "[encoded data removed]",
            "text/plain": [
              "<Figure size 432x288 with 1 Axes>"
            ]
          },
          "metadata": {
            "tags": [],
            "needs_background": "light"
          }
        }
      ]
    },
    {
      "cell_type": "markdown",
      "metadata": {
        "id": "AsAsvet6Hzrh"
      },
      "source": [
        "Задержка старта воспроизведения видео различается слабее, чем скорость загрузки видео. Проведем статистический тест для последней метрики.\n",
        "\n",
        "Сформулируем нулевую и альтернативную гипотезы:\n",
        "* Нулевая гипотеза: Значение скорости загрузки потокового видео у группы, отметившей проблемой медленный мобильный интернет, и у группы, не отметившей эту проблему, не отличается.\n",
        "* Альтернативная гипотеза: Значение скорости загрузки потокового видео у группы, отметившей проблемой  медленный мобильный интернет меньше, чем у группы, не отметившей эту проблему.\n",
        "\n",
        "проверим гипотезы с помощью бутстрэпа"
      ]
    },
    {
      "cell_type": "code",
      "metadata": {
        "id": "utE4RHdFyptY",
        "colab": {
          "base_uri": "https://localhost:8080/",
          "height": 454
        },
        "outputId": "115243eb-29b1-4417-817a-9dccc976ecc2"
      },
      "source": [
        "#Воспользуемся уже заданной ранее функцией\n",
        "differences = bootstrap(df_video.query(\"group=='A'\")['vs_download'], \n",
        "                      df_video.query(\"group=='B'\")['vs_download'], N_TRIAL = 3000)"
      ],
      "execution_count": null,
      "outputs": [
        {
          "output_type": "stream",
          "text": [
            "/usr/local/lib/python3.6/dist-packages/seaborn/distributions.py:2557: FutureWarning:\n",
            "\n",
            "`distplot` is a deprecated function and will be removed in a future version. Please adapt your code to use either `displot` (a figure-level function with similar flexibility) or `histplot` (an axes-level function for histograms).\n",
            "\n",
            "/usr/local/lib/python3.6/dist-packages/seaborn/distributions.py:2557: FutureWarning:\n",
            "\n",
            "`distplot` is a deprecated function and will be removed in a future version. Please adapt your code to use either `displot` (a figure-level function with similar flexibility) or `histplot` (an axes-level function for histograms).\n",
            "\n"
          ],
          "name": "stderr"
        },
        {
          "output_type": "stream",
          "text": [
            "\n"
          ],
          "name": "stdout"
        },
        {
          "output_type": "display_data",
          "data": {
            "image/png": "[encoded data removed]",
            "text/plain": [
              "<Figure size 432x288 with 1 Axes>"
            ]
          },
          "metadata": {
            "tags": [],
            "needs_background": "light"
          }
        }
      ]
    },
    {
      "cell_type": "code",
      "metadata": {
        "id": "uonMoYqSyvJl",
        "colab": {
          "base_uri": "https://localhost:8080/",
          "height": 298
        },
        "outputId": "099171f3-23f1-4279-c402-5bafc4d80d4d"
      },
      "source": [
        "#Посчитаем среднюю разницу и построим гистограмму распределения разницы\n",
        "diff = df_video.query(\"group=='A'\")['vs_download'].mean() -  df_video.query(\"group=='B'\")['vs_download'].mean()\n",
        "sns.histplot(differences)\n",
        "plt.axvline(diff, linestyle = '-',color='r')\n",
        "plt.title('Распределение разницы')"
      ],
      "execution_count": null,
      "outputs": [
        {
          "output_type": "execute_result",
          "data": {
            "text/plain": [
              "Text(0.5, 1.0, 'Распределение разницы')"
            ]
          },
          "metadata": {
            "tags": []
          },
          "execution_count": 79
        },
        {
          "output_type": "display_data",
          "data": {
            "image/png": "[encoded data removed]",
            "text/plain": [
              "<Figure size 432x288 with 1 Axes>"
            ]
          },
          "metadata": {
            "tags": [],
            "needs_background": "light"
          }
        }
      ]
    },
    {
      "cell_type": "code",
      "metadata": {
        "id": "kM_O5ZUKywkp",
        "colab": {
          "base_uri": "https://localhost:8080/"
        },
        "outputId": "e2fcc5d3-7146-415f-e8f5-91491bd05688"
      },
      "source": [
        "#Расчитаем p-value\n",
        "((differences - np.mean(differences)) <= diff).sum()/len(differences)"
      ],
      "execution_count": null,
      "outputs": [
        {
          "output_type": "execute_result",
          "data": {
            "text/plain": [
              "0.003"
            ]
          },
          "metadata": {
            "tags": []
          },
          "execution_count": 81
        }
      ]
    },
    {
      "cell_type": "code",
      "metadata": {
        "colab": {
          "base_uri": "https://localhost:8080/"
        },
        "id": "DwetN_vUJ72a",
        "outputId": "448d04b7-3666-4edd-f681-a776182229e3"
      },
      "source": [
        "diff"
      ],
      "execution_count": null,
      "outputs": [
        {
          "output_type": "execute_result",
          "data": {
            "text/plain": [
              "-1920.2249342525956"
            ]
          },
          "metadata": {
            "tags": []
          },
          "execution_count": 82
        }
      ]
    },
    {
      "cell_type": "markdown",
      "metadata": {
        "id": "i2WcXRPoLLYl"
      },
      "source": [
        "Вывод:\n",
        "\n",
        "На основании имеющихся данных, на уровне значимости 1% (уровне доверия 99%) есть основания отвергнуть нулевую гипотезу в пользу альтернативы.\n",
        "\n",
        "Скорость загрузки потокового видео у группы, отметившей проблемой медленный мобильный интернет меньше, чем у группы, не отметившей эту проблему в среднем на 1920 Kbps."
      ]
    },
    {
      "cell_type": "markdown",
      "metadata": {
        "id": "y7RpAmUTg3kD"
      },
      "source": [
        "# Частота переотправок пакетов «к абоненту»"
      ]
    },
    {
      "cell_type": "markdown",
      "metadata": {
        "id": "OSU7AEnxLtoj"
      },
      "source": [
        "На основании данных какое самое вероятное значение частоты переотправок пакетов «к абоненту» у группы, отметившей проблемы связанные с интернетом? Каков доверительный интервал для неё?\n",
        "\n",
        "Ответ на этот вопрос покажет, стоит ли техническому отделу компании  уделять время для улучшения данной метрики."
      ]
    },
    {
      "cell_type": "code",
      "metadata": {
        "id": "addU87_i2a4i",
        "colab": {
          "base_uri": "https://localhost:8080/",
          "height": 450
        },
        "outputId": "84c825ad-cecc-4fb4-9632-23c2330348b5"
      },
      "source": [
        "#Создадим новый датафрейм\n",
        "df_tcp = df_megafon[['q2', 'downlink_tcp']].copy()\n",
        "df_tcp['group'] = ['A' if ('5' in i) | ('4' in i) else 'B' for i in df_tcp['q2']]\n",
        "df_tcp = df_tcp.query(\"group =='A'\")\n",
        "df_tcp"
      ],
      "execution_count": null,
      "outputs": [
        {
          "output_type": "execute_result",
          "data": {
            "text/html": [
              "<div>\n",
              "<style scoped>\n",
              "    .dataframe tbody tr th:only-of-type {\n",
              "        vertical-align: middle;\n",
              "    }\n",
              "\n",
              "    .dataframe tbody tr th {\n",
              "        vertical-align: top;\n",
              "    }\n",
              "\n",
              "    .dataframe thead th {\n",
              "        text-align: right;\n",
              "    }\n",
              "</style>\n",
              "<table border=\"1\" class=\"dataframe\">\n",
              "  <thead>\n",
              "    <tr style=\"text-align: right;\">\n",
              "      <th></th>\n",
              "      <th>q2</th>\n",
              "      <th>downlink_tcp</th>\n",
              "      <th>group</th>\n",
              "    </tr>\n",
              "    <tr>\n",
              "      <th>user_id</th>\n",
              "      <th></th>\n",
              "      <th></th>\n",
              "      <th></th>\n",
              "    </tr>\n",
              "  </thead>\n",
              "  <tbody>\n",
              "    <tr>\n",
              "      <th>2</th>\n",
              "      <td>4</td>\n",
              "      <td>1.27</td>\n",
              "      <td>A</td>\n",
              "    </tr>\n",
              "    <tr>\n",
              "      <th>3</th>\n",
              "      <td>4</td>\n",
              "      <td>1.79</td>\n",
              "      <td>A</td>\n",
              "    </tr>\n",
              "    <tr>\n",
              "      <th>5</th>\n",
              "      <td>2, 3, 4</td>\n",
              "      <td>1.15</td>\n",
              "      <td>A</td>\n",
              "    </tr>\n",
              "    <tr>\n",
              "      <th>7</th>\n",
              "      <td>4, 5</td>\n",
              "      <td>1.98</td>\n",
              "      <td>A</td>\n",
              "    </tr>\n",
              "    <tr>\n",
              "      <th>9</th>\n",
              "      <td>1, 3, 4</td>\n",
              "      <td>0.84</td>\n",
              "      <td>A</td>\n",
              "    </tr>\n",
              "    <tr>\n",
              "      <th>...</th>\n",
              "      <td>...</td>\n",
              "      <td>...</td>\n",
              "      <td>...</td>\n",
              "    </tr>\n",
              "    <tr>\n",
              "      <th>3101</th>\n",
              "      <td>1, 2, 4</td>\n",
              "      <td>1.64</td>\n",
              "      <td>A</td>\n",
              "    </tr>\n",
              "    <tr>\n",
              "      <th>3102</th>\n",
              "      <td>4</td>\n",
              "      <td>0.70</td>\n",
              "      <td>A</td>\n",
              "    </tr>\n",
              "    <tr>\n",
              "      <th>3105</th>\n",
              "      <td>1, 3, 4</td>\n",
              "      <td>3.86</td>\n",
              "      <td>A</td>\n",
              "    </tr>\n",
              "    <tr>\n",
              "      <th>3108</th>\n",
              "      <td>1, 4, 5</td>\n",
              "      <td>0.47</td>\n",
              "      <td>A</td>\n",
              "    </tr>\n",
              "    <tr>\n",
              "      <th>3109</th>\n",
              "      <td>1, 3, 4, 5</td>\n",
              "      <td>2.35</td>\n",
              "      <td>A</td>\n",
              "    </tr>\n",
              "  </tbody>\n",
              "</table>\n",
              "<p>663 rows × 3 columns</p>\n",
              "</div>"
            ],
            "text/plain": [
              "                 q2  downlink_tcp group\n",
              "user_id                                \n",
              "2                 4          1.27     A\n",
              "3                 4          1.79     A\n",
              "5           2, 3, 4          1.15     A\n",
              "7              4, 5          1.98     A\n",
              "9           1, 3, 4          0.84     A\n",
              "...             ...           ...   ...\n",
              "3101        1, 2, 4          1.64     A\n",
              "3102              4          0.70     A\n",
              "3105        1, 3, 4          3.86     A\n",
              "3108        1, 4, 5          0.47     A\n",
              "3109     1, 3, 4, 5          2.35     A\n",
              "\n",
              "[663 rows x 3 columns]"
            ]
          },
          "metadata": {
            "tags": []
          },
          "execution_count": 83
        }
      ]
    },
    {
      "cell_type": "code",
      "metadata": {
        "id": "hYdKlL0u3yy2",
        "colab": {
          "base_uri": "https://localhost:8080/",
          "height": 364
        },
        "outputId": "4d956018-99ae-4ae2-b631-c9eb2aaf2f32"
      },
      "source": [
        "#Посмотрим на базовые метрики и распределение данных с помощью гистограммы и boxplot\n",
        "basic_research(df = df_tcp, column = 'downlink_tcp')"
      ],
      "execution_count": null,
      "outputs": [
        {
          "output_type": "stream",
          "text": [
            "Базовые метрики\n",
            "       count      mean       std   min   25%   50%   75%    max\n",
            "group                                                          \n",
            "A      663.0  2.112911  2.110257  0.06  0.84  1.51  2.55  19.17\n"
          ],
          "name": "stdout"
        },
        {
          "output_type": "display_data",
          "data": {
            "image/png": "[encoded data removed]",
            "text/plain": [
              "<Figure size 432x288 with 1 Axes>"
            ]
          },
          "metadata": {
            "tags": [],
            "needs_background": "light"
          }
        }
      ]
    },
    {
      "cell_type": "code",
      "metadata": {
        "colab": {
          "base_uri": "https://localhost:8080/",
          "height": 348
        },
        "id": "Fy3LeeWnWsER",
        "outputId": "92e62c79-aff2-4453-a10c-7cbc2078117d"
      },
      "source": [
        "ax = sns.boxplot(df_tcp['downlink_tcp'])"
      ],
      "execution_count": null,
      "outputs": [
        {
          "output_type": "stream",
          "text": [
            "/usr/local/lib/python3.6/dist-packages/seaborn/_decorators.py:43: FutureWarning:\n",
            "\n",
            "Pass the following variable as a keyword arg: x. From version 0.12, the only valid positional argument will be `data`, and passing other arguments without an explicit keyword will result in an error or misinterpretation.\n",
            "\n"
          ],
          "name": "stderr"
        },
        {
          "output_type": "display_data",
          "data": {
            "image/png": "[encoded data removed]",
            "text/plain": [
              "<Figure size 432x288 with 1 Axes>"
            ]
          },
          "metadata": {
            "tags": [],
            "needs_background": "light"
          }
        }
      ]
    },
    {
      "cell_type": "code",
      "metadata": {
        "id": "fnWuNSRG4R2Q"
      },
      "source": [
        "#Функция для нахождения доверительного интервала среднго значения\n",
        "def mean_confidence_interval(data, confidence=0.95):\n",
        "    a = 1.0 * np.array(data)\n",
        "    n = len(a)\n",
        "    m, se = np.mean(a), st.sem(a)\n",
        "    h = se * st.t.ppf((1 + confidence) / 2., n-1)\n",
        "    return m-h, m, m+h"
      ],
      "execution_count": null,
      "outputs": []
    },
    {
      "cell_type": "code",
      "metadata": {
        "id": "rVC2RMZN5hxU",
        "colab": {
          "base_uri": "https://localhost:8080/"
        },
        "outputId": "c3ecb7de-3d86-4f59-f24a-df4be7a18230"
      },
      "source": [
        "mean_confidence_interval(df_tcp['downlink_tcp'])"
      ],
      "execution_count": null,
      "outputs": [
        {
          "output_type": "execute_result",
          "data": {
            "text/plain": [
              "(1.9519867592905178, 2.1129110105580695, 2.2738352618256212)"
            ]
          },
          "metadata": {
            "tags": []
          },
          "execution_count": 93
        }
      ]
    },
    {
      "cell_type": "markdown",
      "metadata": {
        "id": "qRZhH095ZTSZ"
      },
      "source": [
        "Вывод: для большенства пользователей переотправка пакетов не заметна, но у не большой части данное значение большое, возможно это связано с проблемами у самих пользователей."
      ]
    },
    {
      "cell_type": "markdown",
      "metadata": {
        "id": "7S7ShEknmhX8"
      },
      "source": [
        "Заключение:\n",
        "* Наиболее важными параметрами оказались: средняя скорость «к абоненту» и скорость загрузки потокового видео.\n",
        "* Наименее важным частота переотправок пакетов «к абоненту».\n",
        "* Техническому отделу компании , в первую очередь стоит улучшить среднюю скорость «к абоненту» и скорость загрузки потокового видео. \n",
        "* Частота переотправок пакетов «к абоненту» является наименее важной проблемой."
      ]
    }
  ]
}